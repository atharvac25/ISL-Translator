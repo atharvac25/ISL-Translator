{
 "cells": [
  {
   "cell_type": "markdown",
   "metadata": {
    "colab_type": "text",
    "id": "V8-yl-s-WKMG"
   },
   "source": [
    "# Object Detection API Demo\n",
    "\n",
    "<table align=\"left\"><td>\n",
    "  <a target=\"_blank\"  href=\"https://colab.sandbox.google.com/github/tensorflow/models/blob/master/research/object_detection/colab_tutorials/object_detection_tutorial.ipynb\">\n",
    "    <img src=\"https://www.tensorflow.org/images/colab_logo_32px.png\" />Run in Google Colab\n",
    "  </a>\n",
    "</td><td>\n",
    "  <a target=\"_blank\"  href=\"https://github.com/tensorflow/models/blob/master/research/object_detection/colab_tutorials/object_detection_tutorial.ipynb\">\n",
    "    <img width=32px src=\"https://www.tensorflow.org/images/GitHub-Mark-32px.png\" />View source on GitHub</a>\n",
    "</td></table>"
   ]
  },
  {
   "cell_type": "markdown",
   "metadata": {
    "colab_type": "text",
    "id": "3cIrseUv6WKz"
   },
   "source": [
    "Welcome to the [Object Detection API](https://github.com/tensorflow/models/tree/master/research/object_detection). This notebook will walk you step by step through the process of using a pre-trained model to detect objects in an image."
   ]
  },
  {
   "cell_type": "markdown",
   "metadata": {
    "colab_type": "text",
    "id": "VrJaG0cYN9yh"
   },
   "source": [
    "> **Important**: This tutorial is to help you through the first step towards using [Object Detection API](https://github.com/tensorflow/models/tree/master/research/object_detection) to build models. If you just just need an off the shelf model that does the job, see the [TFHub object detection example](https://colab.sandbox.google.com/github/tensorflow/hub/blob/master/examples/colab/object_detection.ipynb)."
   ]
  },
  {
   "cell_type": "markdown",
   "metadata": {
    "colab_type": "text",
    "id": "kFSqkTCdWKMI"
   },
   "source": [
    "# Setup"
   ]
  },
  {
   "cell_type": "markdown",
   "metadata": {
    "colab_type": "text",
    "id": "awjrpqy-6MaQ"
   },
   "source": [
    "Important: If you're running on a local machine, be sure to follow the [installation instructions](https://github.com/tensorflow/models/blob/master/research/object_detection/g3doc/installation.md). This notebook includes only what's necessary to run in Colab."
   ]
  },
  {
   "cell_type": "markdown",
   "metadata": {
    "colab_type": "text",
    "id": "p3UGXxUii5Ym"
   },
   "source": [
    "### Install"
   ]
  },
  {
   "cell_type": "markdown",
   "metadata": {
    "colab_type": "text",
    "id": "n_ap_s9ajTHH"
   },
   "source": [
    "Make sure you have `pycocotools` installed"
   ]
  },
  {
   "cell_type": "markdown",
   "metadata": {
    "colab_type": "text",
    "id": "-vsOL3QR6kqs"
   },
   "source": [
    "Get `tensorflow/models` or `cd` to parent directory of the repository."
   ]
  },
  {
   "cell_type": "markdown",
   "metadata": {
    "colab_type": "text",
    "id": "O219m6yWAj9l"
   },
   "source": [
    "Compile protobufs and install the object_detection package"
   ]
  },
  {
   "cell_type": "markdown",
   "metadata": {
    "colab_type": "text",
    "id": "LBdjK2G5ywuc"
   },
   "source": [
    "### Imports"
   ]
  },
  {
   "cell_type": "code",
   "execution_count": 1,
   "metadata": {
    "colab": {},
    "colab_type": "code",
    "id": "hV4P5gyTWKMI"
   },
   "outputs": [],
   "source": [
    "import numpy as np\n",
    "import os\n",
    "import six.moves.urllib as urllib\n",
    "import sys\n",
    "import tarfile\n",
    "import tensorflow as tf\n",
    "import zipfile\n",
    "\n",
    "from collections import defaultdict\n",
    "from io import StringIO\n",
    "from matplotlib import pyplot as plt\n",
    "from PIL import Image\n",
    "from IPython.display import display"
   ]
  },
  {
   "cell_type": "code",
   "execution_count": 2,
   "metadata": {},
   "outputs": [
    {
     "name": "stdout",
     "output_type": "stream",
     "text": [
      "Requirement already satisfied: tensorflow-object-detection-api in c:\\users\\satya\\anaconda3\\lib\\site-packages (0.1.1)\n",
      "Requirement already satisfied: Pillow>=1.0 in c:\\users\\satya\\anaconda3\\lib\\site-packages (from tensorflow-object-detection-api) (8.0.1)\n",
      "Requirement already satisfied: Cython>=0.28.1 in c:\\users\\satya\\anaconda3\\lib\\site-packages (from tensorflow-object-detection-api) (0.29.21)\n",
      "Requirement already satisfied: Protobuf in c:\\users\\satya\\anaconda3\\lib\\site-packages (from tensorflow-object-detection-api) (3.18.1)\n",
      "Requirement already satisfied: jupyter in c:\\users\\satya\\anaconda3\\lib\\site-packages (from tensorflow-object-detection-api) (1.0.0)\n",
      "Requirement already satisfied: twine in c:\\users\\satya\\anaconda3\\lib\\site-packages (from tensorflow-object-detection-api) (3.4.2)\n",
      "Requirement already satisfied: matplotlib in c:\\users\\satya\\anaconda3\\lib\\site-packages (from tensorflow-object-detection-api) (3.3.2)\n",
      "Requirement already satisfied: tensorflow in c:\\users\\satya\\anaconda3\\lib\\site-packages (from tensorflow-object-detection-api) (2.7.0rc0)\n",
      "Requirement already satisfied: wheel in c:\\users\\satya\\anaconda3\\lib\\site-packages (from tensorflow-object-detection-api) (0.35.1)\n",
      "Requirement already satisfied: lxml in c:\\users\\satya\\anaconda3\\lib\\site-packages (from tensorflow-object-detection-api) (4.6.1)\n",
      "Requirement already satisfied: contextlib2 in c:\\users\\satya\\anaconda3\\lib\\site-packages (from tensorflow-object-detection-api) (0.6.0.post1)\n",
      "Requirement already satisfied: jupyter-console in c:\\users\\satya\\anaconda3\\lib\\site-packages (from jupyter->tensorflow-object-detection-api) (6.2.0)\n",
      "Requirement already satisfied: qtconsole in c:\\users\\satya\\anaconda3\\lib\\site-packages (from jupyter->tensorflow-object-detection-api) (4.7.7)\n",
      "Requirement already satisfied: ipywidgets in c:\\users\\satya\\anaconda3\\lib\\site-packages (from jupyter->tensorflow-object-detection-api) (7.5.1)\n",
      "Requirement already satisfied: notebook in c:\\users\\satya\\anaconda3\\lib\\site-packages (from jupyter->tensorflow-object-detection-api) (6.1.4)\n",
      "Requirement already satisfied: nbconvert in c:\\users\\satya\\anaconda3\\lib\\site-packages (from jupyter->tensorflow-object-detection-api) (6.0.7)\n",
      "Requirement already satisfied: ipykernel in c:\\users\\satya\\anaconda3\\lib\\site-packages (from jupyter->tensorflow-object-detection-api) (5.3.4)\n",
      "Requirement already satisfied: readme-renderer>=21.0 in c:\\users\\satya\\anaconda3\\lib\\site-packages (from twine->tensorflow-object-detection-api) (30.0)\n",
      "Requirement already satisfied: pkginfo>=1.4.2 in c:\\users\\satya\\anaconda3\\lib\\site-packages (from twine->tensorflow-object-detection-api) (1.6.1)\n",
      "Requirement already satisfied: colorama>=0.4.3 in c:\\users\\satya\\anaconda3\\lib\\site-packages (from twine->tensorflow-object-detection-api) (0.4.4)\n",
      "Requirement already satisfied: tqdm>=4.14 in c:\\users\\satya\\anaconda3\\lib\\site-packages (from twine->tensorflow-object-detection-api) (4.50.2)\n",
      "Requirement already satisfied: keyring>=15.1 in c:\\users\\satya\\anaconda3\\lib\\site-packages (from twine->tensorflow-object-detection-api) (21.4.0)\n",
      "Requirement already satisfied: requests-toolbelt!=0.9.0,>=0.8.0 in c:\\users\\satya\\anaconda3\\lib\\site-packages (from twine->tensorflow-object-detection-api) (0.9.1)\n",
      "Requirement already satisfied: rfc3986>=1.4.0 in c:\\users\\satya\\anaconda3\\lib\\site-packages (from twine->tensorflow-object-detection-api) (1.5.0)\n",
      "Requirement already satisfied: importlib-metadata>=3.6 in c:\\users\\satya\\anaconda3\\lib\\site-packages (from twine->tensorflow-object-detection-api) (4.8.1)\n",
      "Requirement already satisfied: requests>=2.20 in c:\\users\\satya\\anaconda3\\lib\\site-packages (from twine->tensorflow-object-detection-api) (2.24.0)\n",
      "Requirement already satisfied: pyparsing!=2.0.4,!=2.1.2,!=2.1.6,>=2.0.3 in c:\\users\\satya\\anaconda3\\lib\\site-packages (from matplotlib->tensorflow-object-detection-api) (2.4.7)\n",
      "Requirement already satisfied: cycler>=0.10 in c:\\users\\satya\\anaconda3\\lib\\site-packages (from matplotlib->tensorflow-object-detection-api) (0.10.0)\n",
      "Requirement already satisfied: python-dateutil>=2.1 in c:\\users\\satya\\anaconda3\\lib\\site-packages (from matplotlib->tensorflow-object-detection-api) (2.8.1)\n",
      "Requirement already satisfied: numpy>=1.15 in c:\\users\\satya\\anaconda3\\lib\\site-packages (from matplotlib->tensorflow-object-detection-api) (1.19.2)\n",
      "Requirement already satisfied: kiwisolver>=1.0.1 in c:\\users\\satya\\anaconda3\\lib\\site-packages (from matplotlib->tensorflow-object-detection-api) (1.3.0)\n",
      "Requirement already satisfied: certifi>=2020.06.20 in c:\\users\\satya\\anaconda3\\lib\\site-packages (from matplotlib->tensorflow-object-detection-api) (2020.6.20)\n",
      "Requirement already satisfied: keras-preprocessing~=1.1.2 in c:\\users\\satya\\anaconda3\\lib\\site-packages (from tensorflow->tensorflow-object-detection-api) (1.1.2)\n",
      "Requirement already satisfied: h5py~=3.1.0 in c:\\users\\satya\\anaconda3\\lib\\site-packages (from tensorflow->tensorflow-object-detection-api) (3.1.0)\n",
      "Requirement already satisfied: gast==0.4.0 in c:\\users\\satya\\anaconda3\\lib\\site-packages (from tensorflow->tensorflow-object-detection-api) (0.4.0)\n",
      "Requirement already satisfied: wrapt~=1.12.1 in c:\\users\\satya\\anaconda3\\lib\\site-packages (from tensorflow->tensorflow-object-detection-api) (1.12.1)\n",
      "Requirement already satisfied: keras~=2.6 in c:\\users\\satya\\anaconda3\\lib\\site-packages (from tensorflow->tensorflow-object-detection-api) (2.7.0rc0)\n",
      "Requirement already satisfied: absl-py~=0.10 in c:\\users\\satya\\anaconda3\\lib\\site-packages (from tensorflow->tensorflow-object-detection-api) (0.14.1)\n",
      "Requirement already satisfied: tensorflow-io-gcs-filesystem>=0.20.0 in c:\\users\\satya\\anaconda3\\lib\\site-packages (from tensorflow->tensorflow-object-detection-api) (0.21.0)\n",
      "Requirement already satisfied: typing-extensions~=3.7.4 in c:\\users\\satya\\anaconda3\\lib\\site-packages (from tensorflow->tensorflow-object-detection-api) (3.7.4.3)\n",
      "Requirement already satisfied: opt-einsum~=3.3.0 in c:\\users\\satya\\anaconda3\\lib\\site-packages (from tensorflow->tensorflow-object-detection-api) (3.3.0)\n",
      "Requirement already satisfied: libclang~=11.1.0 in c:\\users\\satya\\anaconda3\\lib\\site-packages (from tensorflow->tensorflow-object-detection-api) (11.1.0)\n",
      "Requirement already satisfied: flatbuffers~=2.0 in c:\\users\\satya\\anaconda3\\lib\\site-packages (from tensorflow->tensorflow-object-detection-api) (2.0)\n",
      "Requirement already satisfied: six~=1.15.0 in c:\\users\\satya\\anaconda3\\lib\\site-packages (from tensorflow->tensorflow-object-detection-api) (1.15.0)\n",
      "Requirement already satisfied: tensorboard~=2.6 in c:\\users\\satya\\anaconda3\\lib\\site-packages (from tensorflow->tensorflow-object-detection-api) (2.6.0)\n",
      "Requirement already satisfied: tensorflow-estimator~=2.6 in c:\\users\\satya\\anaconda3\\lib\\site-packages (from tensorflow->tensorflow-object-detection-api) (2.7.0rc0)\n",
      "Requirement already satisfied: astunparse~=1.6.3 in c:\\users\\satya\\anaconda3\\lib\\site-packages (from tensorflow->tensorflow-object-detection-api) (1.6.3)\n",
      "Requirement already satisfied: google-pasta~=0.2 in c:\\users\\satya\\anaconda3\\lib\\site-packages (from tensorflow->tensorflow-object-detection-api) (0.2.0)\n",
      "Requirement already satisfied: termcolor~=1.1.0 in c:\\users\\satya\\anaconda3\\lib\\site-packages (from tensorflow->tensorflow-object-detection-api) (1.1.0)\n",
      "Requirement already satisfied: grpcio<2.0,>=1.37.0 in c:\\users\\satya\\anaconda3\\lib\\site-packages (from tensorflow->tensorflow-object-detection-api) (1.41.0)\n",
      "Requirement already satisfied: pygments in c:\\users\\satya\\anaconda3\\lib\\site-packages (from jupyter-console->jupyter->tensorflow-object-detection-api) (2.7.2)\n",
      "Requirement already satisfied: prompt-toolkit!=3.0.0,!=3.0.1,<3.1.0,>=2.0.0 in c:\\users\\satya\\anaconda3\\lib\\site-packages (from jupyter-console->jupyter->tensorflow-object-detection-api) (3.0.8)\n",
      "Requirement already satisfied: ipython in c:\\users\\satya\\anaconda3\\lib\\site-packages (from jupyter-console->jupyter->tensorflow-object-detection-api) (7.19.0)\n",
      "Requirement already satisfied: jupyter-client in c:\\users\\satya\\anaconda3\\lib\\site-packages (from jupyter-console->jupyter->tensorflow-object-detection-api) (6.1.7)\n",
      "Requirement already satisfied: jupyter-core in c:\\users\\satya\\anaconda3\\lib\\site-packages (from qtconsole->jupyter->tensorflow-object-detection-api) (4.6.3)\n",
      "Requirement already satisfied: ipython-genutils in c:\\users\\satya\\anaconda3\\lib\\site-packages (from qtconsole->jupyter->tensorflow-object-detection-api) (0.2.0)\n",
      "Requirement already satisfied: qtpy in c:\\users\\satya\\anaconda3\\lib\\site-packages (from qtconsole->jupyter->tensorflow-object-detection-api) (1.9.0)\n",
      "Requirement already satisfied: traitlets in c:\\users\\satya\\anaconda3\\lib\\site-packages (from qtconsole->jupyter->tensorflow-object-detection-api) (5.0.5)\n",
      "Requirement already satisfied: pyzmq>=17.1 in c:\\users\\satya\\anaconda3\\lib\\site-packages (from qtconsole->jupyter->tensorflow-object-detection-api) (19.0.2)\n",
      "Requirement already satisfied: nbformat>=4.2.0 in c:\\users\\satya\\anaconda3\\lib\\site-packages (from ipywidgets->jupyter->tensorflow-object-detection-api) (5.0.8)\n",
      "Requirement already satisfied: widgetsnbextension~=3.5.0 in c:\\users\\satya\\anaconda3\\lib\\site-packages (from ipywidgets->jupyter->tensorflow-object-detection-api) (3.5.1)\n",
      "Requirement already satisfied: tornado>=5.0 in c:\\users\\satya\\anaconda3\\lib\\site-packages (from notebook->jupyter->tensorflow-object-detection-api) (6.0.4)\n",
      "Requirement already satisfied: Send2Trash in c:\\users\\satya\\anaconda3\\lib\\site-packages (from notebook->jupyter->tensorflow-object-detection-api) (1.5.0)\n",
      "Requirement already satisfied: prometheus-client in c:\\users\\satya\\anaconda3\\lib\\site-packages (from notebook->jupyter->tensorflow-object-detection-api) (0.8.0)\n",
      "Requirement already satisfied: terminado>=0.8.3 in c:\\users\\satya\\anaconda3\\lib\\site-packages (from notebook->jupyter->tensorflow-object-detection-api) (0.9.1)\n",
      "Requirement already satisfied: jinja2 in c:\\users\\satya\\anaconda3\\lib\\site-packages (from notebook->jupyter->tensorflow-object-detection-api) (2.11.2)\n",
      "Requirement already satisfied: argon2-cffi in c:\\users\\satya\\anaconda3\\lib\\site-packages (from notebook->jupyter->tensorflow-object-detection-api) (20.1.0)\n",
      "Requirement already satisfied: mistune<2,>=0.8.1 in c:\\users\\satya\\anaconda3\\lib\\site-packages (from nbconvert->jupyter->tensorflow-object-detection-api) (0.8.4)\n",
      "Requirement already satisfied: nbclient<0.6.0,>=0.5.0 in c:\\users\\satya\\anaconda3\\lib\\site-packages (from nbconvert->jupyter->tensorflow-object-detection-api) (0.5.1)\n",
      "Requirement already satisfied: testpath in c:\\users\\satya\\anaconda3\\lib\\site-packages (from nbconvert->jupyter->tensorflow-object-detection-api) (0.4.4)\n",
      "Requirement already satisfied: jupyterlab-pygments in c:\\users\\satya\\anaconda3\\lib\\site-packages (from nbconvert->jupyter->tensorflow-object-detection-api) (0.1.2)\n",
      "Requirement already satisfied: entrypoints>=0.2.2 in c:\\users\\satya\\anaconda3\\lib\\site-packages (from nbconvert->jupyter->tensorflow-object-detection-api) (0.3)\n",
      "Requirement already satisfied: bleach in c:\\users\\satya\\anaconda3\\lib\\site-packages (from nbconvert->jupyter->tensorflow-object-detection-api) (3.2.1)\n",
      "Requirement already satisfied: pandocfilters>=1.4.1 in c:\\users\\satya\\anaconda3\\lib\\site-packages (from nbconvert->jupyter->tensorflow-object-detection-api) (1.4.3)\n",
      "Requirement already satisfied: defusedxml in c:\\users\\satya\\anaconda3\\lib\\site-packages (from nbconvert->jupyter->tensorflow-object-detection-api) (0.6.0)\n",
      "Requirement already satisfied: docutils>=0.13.1 in c:\\users\\satya\\anaconda3\\lib\\site-packages (from readme-renderer>=21.0->twine->tensorflow-object-detection-api) (0.16)\n",
      "Requirement already satisfied: pywin32-ctypes!=0.1.0,!=0.1.1; sys_platform == \"win32\" in c:\\users\\satya\\anaconda3\\lib\\site-packages (from keyring>=15.1->twine->tensorflow-object-detection-api) (0.2.0)\n",
      "Requirement already satisfied: zipp>=0.5 in c:\\users\\satya\\anaconda3\\lib\\site-packages (from importlib-metadata>=3.6->twine->tensorflow-object-detection-api) (3.4.0)\n",
      "Requirement already satisfied: idna<3,>=2.5 in c:\\users\\satya\\anaconda3\\lib\\site-packages (from requests>=2.20->twine->tensorflow-object-detection-api) (2.10)\n",
      "Requirement already satisfied: chardet<4,>=3.0.2 in c:\\users\\satya\\anaconda3\\lib\\site-packages (from requests>=2.20->twine->tensorflow-object-detection-api) (3.0.4)\n",
      "Requirement already satisfied: urllib3!=1.25.0,!=1.25.1,<1.26,>=1.21.1 in c:\\users\\satya\\anaconda3\\lib\\site-packages (from requests>=2.20->twine->tensorflow-object-detection-api) (1.25.11)\n",
      "Requirement already satisfied: google-auth<2,>=1.6.3 in c:\\users\\satya\\anaconda3\\lib\\site-packages (from tensorboard~=2.6->tensorflow->tensorflow-object-detection-api) (1.35.0)\n",
      "Requirement already satisfied: google-auth-oauthlib<0.5,>=0.4.1 in c:\\users\\satya\\anaconda3\\lib\\site-packages (from tensorboard~=2.6->tensorflow->tensorflow-object-detection-api) (0.4.6)\n",
      "Requirement already satisfied: werkzeug>=0.11.15 in c:\\users\\satya\\anaconda3\\lib\\site-packages (from tensorboard~=2.6->tensorflow->tensorflow-object-detection-api) (1.0.1)\n",
      "Requirement already satisfied: tensorboard-data-server<0.7.0,>=0.6.0 in c:\\users\\satya\\anaconda3\\lib\\site-packages (from tensorboard~=2.6->tensorflow->tensorflow-object-detection-api) (0.6.1)\n",
      "Requirement already satisfied: markdown>=2.6.8 in c:\\users\\satya\\anaconda3\\lib\\site-packages (from tensorboard~=2.6->tensorflow->tensorflow-object-detection-api) (3.3.4)\n",
      "Requirement already satisfied: tensorboard-plugin-wit>=1.6.0 in c:\\users\\satya\\anaconda3\\lib\\site-packages (from tensorboard~=2.6->tensorflow->tensorflow-object-detection-api) (1.8.0)\n",
      "Requirement already satisfied: setuptools>=41.0.0 in c:\\users\\satya\\anaconda3\\lib\\site-packages (from tensorboard~=2.6->tensorflow->tensorflow-object-detection-api) (50.3.1.post20201107)\n",
      "Requirement already satisfied: wcwidth in c:\\users\\satya\\anaconda3\\lib\\site-packages (from prompt-toolkit!=3.0.0,!=3.0.1,<3.1.0,>=2.0.0->jupyter-console->jupyter->tensorflow-object-detection-api) (0.2.5)\n",
      "Requirement already satisfied: pickleshare in c:\\users\\satya\\anaconda3\\lib\\site-packages (from ipython->jupyter-console->jupyter->tensorflow-object-detection-api) (0.7.5)\n",
      "Requirement already satisfied: jedi>=0.10 in c:\\users\\satya\\anaconda3\\lib\\site-packages (from ipython->jupyter-console->jupyter->tensorflow-object-detection-api) (0.17.1)\n",
      "Requirement already satisfied: decorator in c:\\users\\satya\\anaconda3\\lib\\site-packages (from ipython->jupyter-console->jupyter->tensorflow-object-detection-api) (4.4.2)\n",
      "Requirement already satisfied: backcall in c:\\users\\satya\\anaconda3\\lib\\site-packages (from ipython->jupyter-console->jupyter->tensorflow-object-detection-api) (0.2.0)\n",
      "Requirement already satisfied: pywin32>=1.0; sys_platform == \"win32\" in c:\\users\\satya\\anaconda3\\lib\\site-packages (from jupyter-core->qtconsole->jupyter->tensorflow-object-detection-api) (227)\n",
      "Requirement already satisfied: jsonschema!=2.5.0,>=2.4 in c:\\users\\satya\\anaconda3\\lib\\site-packages (from nbformat>=4.2.0->ipywidgets->jupyter->tensorflow-object-detection-api) (3.2.0)\n",
      "Requirement already satisfied: pywinpty>=0.5 in c:\\users\\satya\\anaconda3\\lib\\site-packages (from terminado>=0.8.3->notebook->jupyter->tensorflow-object-detection-api) (0.5.7)\n",
      "Requirement already satisfied: MarkupSafe>=0.23 in c:\\users\\satya\\anaconda3\\lib\\site-packages (from jinja2->notebook->jupyter->tensorflow-object-detection-api) (1.1.1)\n",
      "Requirement already satisfied: cffi>=1.0.0 in c:\\users\\satya\\anaconda3\\lib\\site-packages (from argon2-cffi->notebook->jupyter->tensorflow-object-detection-api) (1.14.3)\n",
      "Requirement already satisfied: async-generator in c:\\users\\satya\\anaconda3\\lib\\site-packages (from nbclient<0.6.0,>=0.5.0->nbconvert->jupyter->tensorflow-object-detection-api) (1.10)\n",
      "Requirement already satisfied: nest-asyncio in c:\\users\\satya\\anaconda3\\lib\\site-packages (from nbclient<0.6.0,>=0.5.0->nbconvert->jupyter->tensorflow-object-detection-api) (1.4.2)\n",
      "Requirement already satisfied: webencodings in c:\\users\\satya\\anaconda3\\lib\\site-packages (from bleach->nbconvert->jupyter->tensorflow-object-detection-api) (0.5.1)\n",
      "Requirement already satisfied: packaging in c:\\users\\satya\\anaconda3\\lib\\site-packages (from bleach->nbconvert->jupyter->tensorflow-object-detection-api) (20.4)\n",
      "Requirement already satisfied: pyasn1-modules>=0.2.1 in c:\\users\\satya\\anaconda3\\lib\\site-packages (from google-auth<2,>=1.6.3->tensorboard~=2.6->tensorflow->tensorflow-object-detection-api) (0.2.8)\n",
      "Requirement already satisfied: rsa<5,>=3.1.4; python_version >= \"3.6\" in c:\\users\\satya\\anaconda3\\lib\\site-packages (from google-auth<2,>=1.6.3->tensorboard~=2.6->tensorflow->tensorflow-object-detection-api) (4.7.2)\n",
      "Requirement already satisfied: cachetools<5.0,>=2.0.0 in c:\\users\\satya\\anaconda3\\lib\\site-packages (from google-auth<2,>=1.6.3->tensorboard~=2.6->tensorflow->tensorflow-object-detection-api) (4.2.4)\n",
      "Requirement already satisfied: requests-oauthlib>=0.7.0 in c:\\users\\satya\\anaconda3\\lib\\site-packages (from google-auth-oauthlib<0.5,>=0.4.1->tensorboard~=2.6->tensorflow->tensorflow-object-detection-api) (1.3.0)\n",
      "Requirement already satisfied: parso<0.8.0,>=0.7.0 in c:\\users\\satya\\anaconda3\\lib\\site-packages (from jedi>=0.10->ipython->jupyter-console->jupyter->tensorflow-object-detection-api) (0.7.0)\n",
      "Requirement already satisfied: pyrsistent>=0.14.0 in c:\\users\\satya\\anaconda3\\lib\\site-packages (from jsonschema!=2.5.0,>=2.4->nbformat>=4.2.0->ipywidgets->jupyter->tensorflow-object-detection-api) (0.17.3)\n",
      "Requirement already satisfied: attrs>=17.4.0 in c:\\users\\satya\\anaconda3\\lib\\site-packages (from jsonschema!=2.5.0,>=2.4->nbformat>=4.2.0->ipywidgets->jupyter->tensorflow-object-detection-api) (20.3.0)\n",
      "Requirement already satisfied: pycparser in c:\\users\\satya\\anaconda3\\lib\\site-packages (from cffi>=1.0.0->argon2-cffi->notebook->jupyter->tensorflow-object-detection-api) (2.20)\n",
      "Requirement already satisfied: pyasn1<0.5.0,>=0.4.6 in c:\\users\\satya\\anaconda3\\lib\\site-packages (from pyasn1-modules>=0.2.1->google-auth<2,>=1.6.3->tensorboard~=2.6->tensorflow->tensorflow-object-detection-api) (0.4.8)\n",
      "Requirement already satisfied: oauthlib>=3.0.0 in c:\\users\\satya\\anaconda3\\lib\\site-packages (from requests-oauthlib>=0.7.0->google-auth-oauthlib<0.5,>=0.4.1->tensorboard~=2.6->tensorflow->tensorflow-object-detection-api) (3.1.1)\n"
     ]
    }
   ],
   "source": [
    "!pip install tensorflow-object-detection-api"
   ]
  },
  {
   "cell_type": "markdown",
   "metadata": {
    "colab_type": "text",
    "id": "r5FNuiRPWKMN"
   },
   "source": [
    "Import the object detection module."
   ]
  },
  {
   "cell_type": "code",
   "execution_count": 3,
   "metadata": {
    "colab": {},
    "colab_type": "code",
    "id": "4-IMl4b6BdGO"
   },
   "outputs": [],
   "source": [
    "from object_detection.utils import ops as utils_ops\n",
    "from object_detection.utils import label_map_util\n",
    "from object_detection.utils import visualization_utils as vis_util"
   ]
  },
  {
   "cell_type": "markdown",
   "metadata": {
    "colab_type": "text",
    "id": "RYPCiag2iz_q"
   },
   "source": [
    "Patches:"
   ]
  },
  {
   "cell_type": "code",
   "execution_count": 4,
   "metadata": {
    "colab": {},
    "colab_type": "code",
    "id": "mF-YlMl8c_bM"
   },
   "outputs": [],
   "source": [
    "# patch tf1 into `utils.ops`\n",
    "utils_ops.tf = tf.compat.v1\n",
    "\n",
    "# Patch the location of gfile\n",
    "tf.gfile = tf.io.gfile"
   ]
  },
  {
   "cell_type": "markdown",
   "metadata": {
    "colab_type": "text",
    "id": "cfn_tRFOWKMO"
   },
   "source": [
    "# Model preparation "
   ]
  },
  {
   "cell_type": "markdown",
   "metadata": {
    "colab_type": "text",
    "id": "X_sEBLpVWKMQ"
   },
   "source": [
    "## Variables\n",
    "\n",
    "Any model exported using the `export_inference_graph.py` tool can be loaded here simply by changing the path.\n",
    "\n",
    "By default we use an \"SSD with Mobilenet\" model here. See the [detection model zoo](https://github.com/tensorflow/models/blob/master/research/object_detection/g3doc/detection_model_zoo.md) for a list of other models that can be run out-of-the-box with varying speeds and accuracies."
   ]
  },
  {
   "cell_type": "markdown",
   "metadata": {
    "colab_type": "text",
    "id": "_1MVVTcLWKMW"
   },
   "source": [
    "## Loading label map\n",
    "Label maps map indices to category names, so that when our convolution network predicts `5`, we know that this corresponds to `airplane`.  Here we use internal utility functions, but anything that returns a dictionary mapping integers to appropriate string labels would be fine"
   ]
  },
  {
   "cell_type": "code",
   "execution_count": 5,
   "metadata": {
    "colab": {},
    "colab_type": "code",
    "id": "hDbpHkiWWKMX"
   },
   "outputs": [],
   "source": [
    "# List of the strings that is used to add correct label for each box.\n",
    "PATH_TO_LABELS = 'annotations/label_map.pbtxt'\n",
    "category_index = label_map_util.create_category_index_from_labelmap(PATH_TO_LABELS, use_display_name=True)"
   ]
  },
  {
   "cell_type": "markdown",
   "metadata": {
    "colab_type": "text",
    "id": "oVU3U_J6IJVb"
   },
   "source": [
    "For the sake of simplicity we will test on 2 images:"
   ]
  },
  {
   "cell_type": "code",
   "execution_count": 6,
   "metadata": {
    "colab": {},
    "colab_type": "code",
    "id": "jG-zn5ykWKMd"
   },
   "outputs": [
    {
     "data": {
      "text/plain": [
       "[WindowsPath('images/test/112.jpg'),\n",
       " WindowsPath('images/test/113.jpg'),\n",
       " WindowsPath('images/test/114.jpg'),\n",
       " WindowsPath('images/test/115.jpg'),\n",
       " WindowsPath('images/test/a39.jpg'),\n",
       " WindowsPath('images/test/a40.jpg'),\n",
       " WindowsPath('images/test/a42.jpg'),\n",
       " WindowsPath('images/test/a43.jpg'),\n",
       " WindowsPath('images/test/b38.jpg'),\n",
       " WindowsPath('images/test/b39.jpg'),\n",
       " WindowsPath('images/test/b40.jpg'),\n",
       " WindowsPath('images/test/b41.jpg'),\n",
       " WindowsPath('images/test/c131.jpg'),\n",
       " WindowsPath('images/test/c132.jpg'),\n",
       " WindowsPath('images/test/c136.jpg'),\n",
       " WindowsPath('images/test/c141.jpg'),\n",
       " WindowsPath('images/test/d54.jpg'),\n",
       " WindowsPath('images/test/d56.jpg'),\n",
       " WindowsPath('images/test/d60.jpg'),\n",
       " WindowsPath('images/test/d61.jpg'),\n",
       " WindowsPath('images/test/e62.jpg'),\n",
       " WindowsPath('images/test/e63.jpg'),\n",
       " WindowsPath('images/test/e65.jpg'),\n",
       " WindowsPath('images/test/e66.jpg'),\n",
       " WindowsPath('images/test/f49.jpg'),\n",
       " WindowsPath('images/test/f50.jpg'),\n",
       " WindowsPath('images/test/f51.jpg'),\n",
       " WindowsPath('images/test/f52.jpg'),\n",
       " WindowsPath('images/test/g51.jpg'),\n",
       " WindowsPath('images/test/g52.jpg'),\n",
       " WindowsPath('images/test/g53.jpg'),\n",
       " WindowsPath('images/test/g54.jpg'),\n",
       " WindowsPath('images/test/h40.jpg'),\n",
       " WindowsPath('images/test/h41.jpg'),\n",
       " WindowsPath('images/test/h42.jpg'),\n",
       " WindowsPath('images/test/h43.jpg'),\n",
       " WindowsPath('images/test/i112.jpg'),\n",
       " WindowsPath('images/test/i114.jpg'),\n",
       " WindowsPath('images/test/i115.jpg'),\n",
       " WindowsPath('images/test/i117.jpg'),\n",
       " WindowsPath('images/test/j55.jpg'),\n",
       " WindowsPath('images/test/j56.jpg'),\n",
       " WindowsPath('images/test/j62.jpg'),\n",
       " WindowsPath('images/test/j63.jpg'),\n",
       " WindowsPath('images/test/k40.jpg'),\n",
       " WindowsPath('images/test/k41.jpg'),\n",
       " WindowsPath('images/test/k42.jpg'),\n",
       " WindowsPath('images/test/k43.jpg'),\n",
       " WindowsPath('images/test/l76.jpg'),\n",
       " WindowsPath('images/test/l77.jpg'),\n",
       " WindowsPath('images/test/l79.jpg'),\n",
       " WindowsPath('images/test/l89.jpg'),\n",
       " WindowsPath('images/test/m52.jpg'),\n",
       " WindowsPath('images/test/m53.jpg'),\n",
       " WindowsPath('images/test/m54.jpg'),\n",
       " WindowsPath('images/test/m55.jpg'),\n",
       " WindowsPath('images/test/n42.jpg'),\n",
       " WindowsPath('images/test/n57.jpg'),\n",
       " WindowsPath('images/test/n58.jpg'),\n",
       " WindowsPath('images/test/n59.jpg'),\n",
       " WindowsPath('images/test/o158.jpg'),\n",
       " WindowsPath('images/test/o212.jpg'),\n",
       " WindowsPath('images/test/o214.jpg'),\n",
       " WindowsPath('images/test/o215.jpg'),\n",
       " WindowsPath('images/test/p177.jpg'),\n",
       " WindowsPath('images/test/p179.jpg'),\n",
       " WindowsPath('images/test/p180.jpg'),\n",
       " WindowsPath('images/test/p181.jpg'),\n",
       " WindowsPath('images/test/q125.jpg'),\n",
       " WindowsPath('images/test/q126.jpg'),\n",
       " WindowsPath('images/test/q141.jpg'),\n",
       " WindowsPath('images/test/q183.jpg'),\n",
       " WindowsPath('images/test/r247.jpg'),\n",
       " WindowsPath('images/test/r248.jpg'),\n",
       " WindowsPath('images/test/r249.jpg'),\n",
       " WindowsPath('images/test/r250.jpg'),\n",
       " WindowsPath('images/test/s203.jpg'),\n",
       " WindowsPath('images/test/s206.jpg'),\n",
       " WindowsPath('images/test/s208.jpg'),\n",
       " WindowsPath('images/test/s209.jpg'),\n",
       " WindowsPath('images/test/t111.jpg'),\n",
       " WindowsPath('images/test/t115.jpg'),\n",
       " WindowsPath('images/test/t116.jpg'),\n",
       " WindowsPath('images/test/t118.jpg'),\n",
       " WindowsPath('images/test/v150.jpg'),\n",
       " WindowsPath('images/test/v154.jpg'),\n",
       " WindowsPath('images/test/v156.jpg'),\n",
       " WindowsPath('images/test/v157.jpg'),\n",
       " WindowsPath('images/test/w0.jpg'),\n",
       " WindowsPath('images/test/w1.jpg'),\n",
       " WindowsPath('images/test/w2.jpg'),\n",
       " WindowsPath('images/test/w4.jpg'),\n",
       " WindowsPath('images/test/webcam_opencv_no_1_36.jpg'),\n",
       " WindowsPath('images/test/webcam_opencv_no_1_37.jpg'),\n",
       " WindowsPath('images/test/webcam_opencv_no_1_38.jpg'),\n",
       " WindowsPath('images/test/webcam_opencv_no_1_39.jpg'),\n",
       " WindowsPath('images/test/webcam_opencv_no_2_36.jpg'),\n",
       " WindowsPath('images/test/webcam_opencv_no_2_37.jpg'),\n",
       " WindowsPath('images/test/webcam_opencv_no_2_38.jpg'),\n",
       " WindowsPath('images/test/webcam_opencv_no_2_39.jpg'),\n",
       " WindowsPath('images/test/webcam_opencv_no_3_36.jpg'),\n",
       " WindowsPath('images/test/webcam_opencv_no_3_37.jpg'),\n",
       " WindowsPath('images/test/webcam_opencv_no_3_38.jpg'),\n",
       " WindowsPath('images/test/webcam_opencv_no_3_39.jpg'),\n",
       " WindowsPath('images/test/webcam_opencv_no_4_36.jpg'),\n",
       " WindowsPath('images/test/webcam_opencv_no_4_37.jpg'),\n",
       " WindowsPath('images/test/webcam_opencv_no_4_38.jpg'),\n",
       " WindowsPath('images/test/webcam_opencv_no_4_39.jpg'),\n",
       " WindowsPath('images/test/webcam_opencv_no_5_36.jpg'),\n",
       " WindowsPath('images/test/webcam_opencv_no_5_37.jpg'),\n",
       " WindowsPath('images/test/webcam_opencv_no_5_38.jpg'),\n",
       " WindowsPath('images/test/webcam_opencv_no_5_39.jpg'),\n",
       " WindowsPath('images/test/webcam_opencv_no_6_36.jpg'),\n",
       " WindowsPath('images/test/webcam_opencv_no_6_37.jpg'),\n",
       " WindowsPath('images/test/webcam_opencv_no_6_38.jpg'),\n",
       " WindowsPath('images/test/webcam_opencv_no_6_39.jpg'),\n",
       " WindowsPath('images/test/webcam_opencv_no_7_36.jpg'),\n",
       " WindowsPath('images/test/webcam_opencv_no_7_37.jpg'),\n",
       " WindowsPath('images/test/webcam_opencv_no_7_38.jpg'),\n",
       " WindowsPath('images/test/webcam_opencv_no_7_39.jpg'),\n",
       " WindowsPath('images/test/webcam_opencv_no_8_36.jpg'),\n",
       " WindowsPath('images/test/webcam_opencv_no_8_37.jpg'),\n",
       " WindowsPath('images/test/webcam_opencv_no_8_38.jpg'),\n",
       " WindowsPath('images/test/webcam_opencv_no_8_39.jpg'),\n",
       " WindowsPath('images/test/webcam_opencv_no_9_36.jpg'),\n",
       " WindowsPath('images/test/webcam_opencv_no_9_37.jpg'),\n",
       " WindowsPath('images/test/webcam_opencv_no_9_38.jpg'),\n",
       " WindowsPath('images/test/webcam_opencv_no_9_39.jpg'),\n",
       " WindowsPath('images/test/x137.jpg'),\n",
       " WindowsPath('images/test/x138.jpg'),\n",
       " WindowsPath('images/test/x139.jpg'),\n",
       " WindowsPath('images/test/x140.jpg'),\n",
       " WindowsPath('images/test/y144.jpg'),\n",
       " WindowsPath('images/test/y145.jpg'),\n",
       " WindowsPath('images/test/y146.jpg'),\n",
       " WindowsPath('images/test/y147.jpg'),\n",
       " WindowsPath('images/test/z145.jpg'),\n",
       " WindowsPath('images/test/z146.jpg'),\n",
       " WindowsPath('images/test/z147.jpg'),\n",
       " WindowsPath('images/test/z148.jpg')]"
      ]
     },
     "execution_count": 6,
     "metadata": {},
     "output_type": "execute_result"
    }
   ],
   "source": [
    "import pathlib\n",
    "# If you want to test the code with your images, just add path to the images to the TEST_IMAGE_PATHS.\n",
    "PATH_TO_TEST_IMAGES_DIR = pathlib.Path('images/test/')\n",
    "TEST_IMAGE_PATHS = sorted(list(PATH_TO_TEST_IMAGES_DIR.glob(\"*.jpg\")))\n",
    "TEST_IMAGE_PATHS"
   ]
  },
  {
   "cell_type": "markdown",
   "metadata": {
    "colab_type": "text",
    "id": "H0_1AGhrWKMc"
   },
   "source": [
    "# Detection"
   ]
  },
  {
   "cell_type": "markdown",
   "metadata": {
    "colab_type": "text",
    "id": "f7aOtOlebK7h"
   },
   "source": [
    "Load an object detection model:"
   ]
  },
  {
   "cell_type": "code",
   "execution_count": 7,
   "metadata": {
    "colab": {},
    "colab_type": "code",
    "id": "1XNT0wxybKR6"
   },
   "outputs": [],
   "source": [
    "### change the location accordingly\n",
    "detection_model = tf.saved_model.load('exported-models\\my_model\\saved_model')"
   ]
  },
  {
   "cell_type": "markdown",
   "metadata": {
    "colab_type": "text",
    "id": "yN1AYfAEJIGp"
   },
   "source": [
    "Check the model's input signature, it expects a batch of 3-color images of type uint8:"
   ]
  },
  {
   "cell_type": "code",
   "execution_count": 8,
   "metadata": {
    "colab": {},
    "colab_type": "code",
    "id": "ajmR_exWyN76"
   },
   "outputs": [],
   "source": [
    "def run_inference_for_single_image(model, image):\n",
    "  image = np.asarray(image)\n",
    "  # The input needs to be a tensor, convert it using `tf.convert_to_tensor`.\n",
    "  input_tensor = tf.convert_to_tensor(image)\n",
    "  # The model expects a batch of images, so add an axis with `tf.newaxis`.\n",
    "  input_tensor = input_tensor[tf.newaxis,...]\n",
    "\n",
    "  # Run inference\n",
    "  model_fn = model.signatures['serving_default']\n",
    "  output_dict = model_fn(input_tensor)\n",
    "#   print(output_dict)\n",
    "  # All outputs are batches tensors.\n",
    "  # Convert to numpy arrays, and take index [0] to remove the batch dimension.\n",
    "  # We're only interested in the first num_detections.\n",
    "  num_detections = int(output_dict.pop('num_detections'))\n",
    "  output_dict = {key:value[0, :num_detections].numpy() \n",
    "                 for key,value in output_dict.items()}\n",
    "  output_dict['num_detections'] = num_detections\n",
    "\n",
    "  # detection_classes should be ints.\n",
    "  output_dict['detection_classes'] = output_dict['detection_classes'].astype(np.int64)\n",
    "#   print(output_dict['detection_classes'])\n",
    "  # Handle models with masks:\n",
    "  if 'detection_masks' in output_dict:\n",
    "    # Reframe the the bbox mask to the image size.\n",
    "    detection_masks_reframed = utils_ops.reframe_box_masks_to_image_masks(\n",
    "              output_dict['detection_masks'], output_dict['detection_boxes'],\n",
    "               image.shape[0], image.shape[1])      \n",
    "    detection_masks_reframed = tf.cast(detection_masks_reframed > 0.8,\n",
    "                                       tf.uint8)\n",
    "    output_dict['detection_masks_reframed'] = detection_masks_reframed.numpy()\n",
    "    \n",
    "  return output_dict\n",
    "\n",
    "\n",
    "def show_inference(model, image_np):\n",
    "  # the array based representation of the image will be used later in order to prepare the\n",
    "  # result image with boxes and labels on it.\n",
    "#   image_np = np.array(Image.open(image_path))\n",
    "  # Actual detection.\n",
    "  output_dict = run_inference_for_single_image(model, image_np)\n",
    "\n",
    "#   print(category_index)\n",
    "  # Visualization of the results of a detection.\n",
    "  final_img =vis_util.visualize_boxes_and_labels_on_image_array(\n",
    "          image_np,\n",
    "          output_dict['detection_boxes'],\n",
    "          output_dict['detection_classes'],\n",
    "          output_dict['detection_scores'],\n",
    "          category_index,\n",
    "          instance_masks=output_dict.get('detection_masks_reframed', None),\n",
    "          use_normalized_coordinates=True,\n",
    "          line_thickness=8)\n",
    "  return(final_img)\n",
    "#   display(Image.fromarray(image_np))"
   ]
  },
  {
   "cell_type": "code",
   "execution_count": 11,
   "metadata": {},
   "outputs": [
    {
     "name": "stdout",
     "output_type": "stream",
     "text": [
      "Requirement already satisfied: opencv-python in c:\\users\\satya\\anaconda3\\lib\\site-packages (4.5.3.56)\n",
      "Requirement already satisfied: numpy>=1.17.3 in c:\\users\\satya\\anaconda3\\lib\\site-packages (from opencv-python) (1.19.2)\n"
     ]
    }
   ],
   "source": [
    "!pip install opencv-python"
   ]
  },
  {
   "cell_type": "markdown",
   "metadata": {
    "colab_type": "text",
    "id": "z1wq0LVyMRR_"
   },
   "source": [
    "Run it on each test image and show the results:"
   ]
  },
  {
   "cell_type": "code",
   "execution_count": 17,
   "metadata": {
    "colab": {},
    "colab_type": "code",
    "id": "DWh_1zz6aqxs",
    "scrolled": true
   },
   "outputs": [],
   "source": [
    "import cv2\n",
    "\n",
    "cap = cv2.VideoCapture(0)\n",
    "\n",
    "while 1:\n",
    "    _,img = cap.read()\n",
    "    img = cv2.cvtColor(img,cv2.COLOR_BGR2RGB)\n",
    "    final_img = show_inference(detection_model,img)\n",
    "    \n",
    "    final_img = cv2.cvtColor(final_img,cv2.COLOR_RGB2BGR)\n",
    "\n",
    "    cv2.imshow('img',final_img)\n",
    "\n",
    "#     cv2.imshow('img',img)\n",
    "    if cv2.waitKey(1) == ord('q'):\n",
    "        break\n",
    "\n",
    "cap.release()\n",
    "cv2.destroyAllWindows()\n"
   ]
  },
  {
   "cell_type": "code",
   "execution_count": null,
   "metadata": {},
   "outputs": [],
   "source": []
  },
  {
   "cell_type": "code",
   "execution_count": null,
   "metadata": {},
   "outputs": [],
   "source": []
  }
 ],
 "metadata": {
  "accelerator": "GPU",
  "colab": {
   "collapsed_sections": [],
   "last_runtime": {
    "build_target": "//learning/brain/python/client:colab_notebook",
    "kind": "private"
   },
   "name": "object_detection_tutorial.ipynb",
   "private_outputs": true,
   "provenance": [
    {
     "file_id": "/piper/depot/google3/third_party/tensorflow_models/object_detection/colab_tutorials/object_detection_tutorial.ipynb",
     "timestamp": 1594335690840
    },
    {
     "file_id": "1LNYL6Zsn9Xlil2CVNOTsgDZQSBKeOjCh",
     "timestamp": 1566498233247
    },
    {
     "file_id": "/piper/depot/google3/third_party/tensorflow_models/object_detection/object_detection_tutorial.ipynb?workspaceId=markdaoust:copybara_AFABFE845DCD573AD3D43A6BAFBE77D4_0::citc",
     "timestamp": 1566488313397
    },
    {
     "file_id": "/piper/depot/google3/third_party/py/tensorflow_docs/g3doc/en/r2/tutorials/generative/object_detection_tutorial.ipynb?workspaceId=markdaoust:copybara_AFABFE845DCD573AD3D43A6BAFBE77D4_0::citc",
     "timestamp": 1566145894046
    },
    {
     "file_id": "1nBPoWynOV0auSIy40eQcBIk9C6YRSkI8",
     "timestamp": 1566145841085
    },
    {
     "file_id": "/piper/depot/google3/third_party/tensorflow_models/object_detection/object_detection_tutorial.ipynb?workspaceId=markdaoust:copybara_AFABFE845DCD573AD3D43A6BAFBE77D4_0::citc",
     "timestamp": 1556295408037
    },
    {
     "file_id": "1layerger-51XwWOwYMY_5zHaCavCeQkO",
     "timestamp": 1556214267924
    },
    {
     "file_id": "/piper/depot/google3/third_party/tensorflow_models/object_detection/object_detection_tutorial.ipynb?workspaceId=markdaoust:copybara_AFABFE845DCD573AD3D43A6BAFBE77D4_0::citc",
     "timestamp": 1556207836484
    },
    {
     "file_id": "1w6mqQiNV3liPIX70NOgitOlDF1_4sRMw",
     "timestamp": 1556154824101
    },
    {
     "file_id": "https://github.com/tensorflow/models/blob/master/research/object_detection/object_detection_tutorial.ipynb",
     "timestamp": 1556150293326
    }
   ]
  },
  "interpreter": {
   "hash": "ac59ebe37160ed0dfa835113d9b8498d9f09ceb179beaac4002f036b9467c963"
  },
  "kernelspec": {
   "display_name": "Python 3",
   "language": "python",
   "name": "python3"
  },
  "language_info": {
   "codemirror_mode": {
    "name": "ipython",
    "version": 3
   },
   "file_extension": ".py",
   "mimetype": "text/x-python",
   "name": "python",
   "nbconvert_exporter": "python",
   "pygments_lexer": "ipython3",
   "version": "3.8.5"
  }
 },
 "nbformat": 4,
 "nbformat_minor": 1
}
